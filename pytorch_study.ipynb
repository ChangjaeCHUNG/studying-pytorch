{
  "nbformat": 4,
  "nbformat_minor": 0,
  "metadata": {
    "colab": {
      "name": "pytorch study.ipynb",
      "provenance": [],
      "collapsed_sections": [],
      "authorship_tag": "ABX9TyMzuodyXSALwJXsUfcw/bl4",
      "include_colab_link": true
    },
    "kernelspec": {
      "name": "python3",
      "display_name": "Python 3"
    },
    "accelerator": "GPU"
  },
  "cells": [
    {
      "cell_type": "markdown",
      "metadata": {
        "id": "view-in-github",
        "colab_type": "text"
      },
      "source": [
        "<a href=\"https://colab.research.google.com/github/ChangjaeCHUNG/studying-pytorch/blob/main/pytorch_study.ipynb\" target=\"_parent\"><img src=\"https://colab.research.google.com/assets/colab-badge.svg\" alt=\"Open In Colab\"/></a>"
      ]
    },
    {
      "cell_type": "markdown",
      "metadata": {
        "id": "mqZkP9YWmK7G"
      },
      "source": [
        "# import torch & elementary tensor operation"
      ]
    },
    {
      "cell_type": "code",
      "metadata": {
        "colab": {
          "base_uri": "https://localhost:8080/"
        },
        "id": "YEmhi4DObVj4",
        "outputId": "c6284316-992d-43eb-a664-4ded45f06c43"
      },
      "source": [
        "import torch\n",
        "import numpy as np\n",
        "\n",
        "if torch.cuda.is_available():\n",
        "  device = torch.device(\"cuda\")\n",
        "\n",
        "a = np.array([[1,2],[3,4]])\n",
        "x = torch.tensor(a)\n",
        "y = torch.tensor([[5,6], [7,8]])\n",
        "z = x.mm(y)\n",
        "print(z)"
      ],
      "execution_count": 8,
      "outputs": [
        {
          "output_type": "stream",
          "text": [
            "tensor([[19, 22],\n",
            "        [43, 50]])\n"
          ],
          "name": "stdout"
        }
      ]
    },
    {
      "cell_type": "markdown",
      "metadata": {
        "id": "fueQtDiWmI-2"
      },
      "source": [
        "# Practice Autograd"
      ]
    },
    {
      "cell_type": "code",
      "metadata": {
        "colab": {
          "base_uri": "https://localhost:8080/"
        },
        "id": "6uO8NLDLnHTc",
        "outputId": "1b521eb7-faa5-4037-a6a7-db97e40f35c7"
      },
      "source": [
        "BATCH_SIZE = 64\n",
        "INPUT_SIZE = 1000\n",
        "HIDDEN_SIZE = 100\n",
        "OUTPUT_SIZE = 10\n",
        "\n",
        "x = torch.randn(BATCH_SIZE, INPUT_SIZE, device = device, dtype = torch.float, requires_grad = False)\n",
        "y = torch.randn(BATCH_SIZE, OUTPUT_SIZE, device = device, dtype = torch.float, requires_grad = False)\n",
        "w1 = torch.randn(INPUT_SIZE, HIDDEN_SIZE, device = device, dtype = torch.float, requires_grad = True)\n",
        "w2 = torch.randn(HIDDEN_SIZE, OUTPUT_SIZE, device = device, dtype = torch.float, requires_grad = True)\n",
        "\n",
        "lr = 1e-6\n",
        "for t in range(1,501):\n",
        "  y_pred = x.mm(w1).clamp(min = 0).mm(w2)\n",
        "  loss = (y_pred - y).pow(2).sum()\n",
        "  if not(t % 100):\n",
        "    print(\"Iteration: \", t, \"\\t\", \"Loss: \", loss.item())\n",
        "  loss.backward()\n",
        "\n",
        "  with torch.no_grad():\n",
        "    w1 -= lr * w1.grad\n",
        "    w2 -= lr * w2.grad\n",
        "\n",
        "    w1.grad.zero_()\n",
        "    w2.grad.zero_()\n",
        "\n",
        "\n"
      ],
      "execution_count": 18,
      "outputs": [
        {
          "output_type": "stream",
          "text": [
            "tensor([[19, 22],\n",
            "        [43, 50]])\n",
            "Iteration:  100 \t Loss:  639.1555786132812\n",
            "Iteration:  200 \t Loss:  3.1383187770843506\n",
            "Iteration:  300 \t Loss:  0.023858066648244858\n",
            "Iteration:  400 \t Loss:  0.00043592535075731575\n",
            "Iteration:  500 \t Loss:  5.509784386958927e-05\n"
          ],
          "name": "stdout"
        }
      ]
    },
    {
      "cell_type": "markdown",
      "metadata": {
        "id": "UZ-Il6u_sBnJ"
      },
      "source": [
        "# MNIST & Multi Layer Perceptron"
      ]
    },
    {
      "cell_type": "code",
      "metadata": {
        "id": "FmqTck2NsRKB"
      },
      "source": [
        ""
      ],
      "execution_count": null,
      "outputs": []
    }
  ]
}